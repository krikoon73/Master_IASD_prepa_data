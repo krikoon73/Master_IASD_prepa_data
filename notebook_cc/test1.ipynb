{
 "cells": [
  {
   "cell_type": "code",
   "execution_count": 1,
   "metadata": {
    "collapsed": true
   },
   "outputs": [
    {
     "name": "stderr",
     "output_type": "stream",
     "text": [
      "[nltk_data] Downloading package punkt to /Users/ccompain/nltk_data...\n",
      "[nltk_data]   Package punkt is already up-to-date!\n"
     ]
    },
    {
     "data": {
      "text/plain": "True"
     },
     "execution_count": 1,
     "metadata": {},
     "output_type": "execute_result"
    }
   ],
   "source": [
    "import pandas as pd\n",
    "import nltk\n",
    "import time\n",
    "import numpy as np\n",
    "nltk.download('punkt')"
   ]
  },
  {
   "cell_type": "code",
   "execution_count": 2,
   "outputs": [],
   "source": [
    "df_SampleCompany1 = pd.read_csv(\"./SampleData/Sample_Company1.csv\")\n",
    "df_SampleCompany2 = pd.read_csv(\"./SampleData/Sample_Company2.csv\")"
   ],
   "metadata": {
    "collapsed": false,
    "pycharm": {
     "name": "#%%\n"
    }
   }
  },
  {
   "cell_type": "code",
   "execution_count": 3,
   "outputs": [
    {
     "data": {
      "text/plain": "           id                                              title  \\\n0  b0000aka82  studyworks! teaching pro: middle school math &...   \n1  b000bnb72g                                      movies on psp   \n2  b0002e3g6o  eastwest bsendorfer 290 grand piano virtual in...   \n3  b00008ajjc                                 passwords plus 1.0   \n4  b0006g2wke  microsoft licenses project svr sa govt (h2200301)   \n\n                                         description  \\\n0  studyworks teaching pro middle school math & s...   \n1  x-zoom movies on psp is the first commercial v...   \n2  the 5-star awarded pmi bdorfer 290 is simply t...   \n3  passwords plus stores all your personal inform...   \n4  microsoft project server win32 english softwar...   \n\n                 manufacturer    price  \n0  global software publishing    29.99  \n1                       x-oom     0.00  \n2                    eastwest   199.95  \n3                     dataviz    29.99  \n4          microsoft licenses  3601.40  ",
      "text/html": "<div>\n<style scoped>\n    .dataframe tbody tr th:only-of-type {\n        vertical-align: middle;\n    }\n\n    .dataframe tbody tr th {\n        vertical-align: top;\n    }\n\n    .dataframe thead th {\n        text-align: right;\n    }\n</style>\n<table border=\"1\" class=\"dataframe\">\n  <thead>\n    <tr style=\"text-align: right;\">\n      <th></th>\n      <th>id</th>\n      <th>title</th>\n      <th>description</th>\n      <th>manufacturer</th>\n      <th>price</th>\n    </tr>\n  </thead>\n  <tbody>\n    <tr>\n      <th>0</th>\n      <td>b0000aka82</td>\n      <td>studyworks! teaching pro: middle school math &amp;...</td>\n      <td>studyworks teaching pro middle school math &amp; s...</td>\n      <td>global software publishing</td>\n      <td>29.99</td>\n    </tr>\n    <tr>\n      <th>1</th>\n      <td>b000bnb72g</td>\n      <td>movies on psp</td>\n      <td>x-zoom movies on psp is the first commercial v...</td>\n      <td>x-oom</td>\n      <td>0.00</td>\n    </tr>\n    <tr>\n      <th>2</th>\n      <td>b0002e3g6o</td>\n      <td>eastwest bsendorfer 290 grand piano virtual in...</td>\n      <td>the 5-star awarded pmi bdorfer 290 is simply t...</td>\n      <td>eastwest</td>\n      <td>199.95</td>\n    </tr>\n    <tr>\n      <th>3</th>\n      <td>b00008ajjc</td>\n      <td>passwords plus 1.0</td>\n      <td>passwords plus stores all your personal inform...</td>\n      <td>dataviz</td>\n      <td>29.99</td>\n    </tr>\n    <tr>\n      <th>4</th>\n      <td>b0006g2wke</td>\n      <td>microsoft licenses project svr sa govt (h2200301)</td>\n      <td>microsoft project server win32 english softwar...</td>\n      <td>microsoft licenses</td>\n      <td>3601.40</td>\n    </tr>\n  </tbody>\n</table>\n</div>"
     },
     "execution_count": 3,
     "metadata": {},
     "output_type": "execute_result"
    }
   ],
   "source": [
    "df_SampleCompany1.head(5)"
   ],
   "metadata": {
    "collapsed": false,
    "pycharm": {
     "name": "#%%\n"
    }
   }
  },
  {
   "cell_type": "code",
   "execution_count": 4,
   "outputs": [
    {
     "data": {
      "text/plain": "                     id                                               name  \\\n0  12244614697089679523                     production prem cs3 mac upgrad   \n1   5781318040297863663  ipswitch wd-1000-0900 ws_ftp pro 9 sdk w/ ws_f...   \n2   9949258255997064102                         money prem 2007 cd minibox   \n3   9761533219806554318                 adobe indesign cs3 for mac upgrade   \n4  18226456193742595288               bamboo technology llc vault360 combo   \n\n                                         description    manufacturer   price  \n0  adobe cs3 production premium mac upgrade from ...  adobe software  805.99  \n1                           no description available        ipswitch  325.51  \n2  money premium 2007 win32 english north america...       microsoft   63.99  \n3  system requirements powerpc g4 or g5 or intel ...             NaN  205.99  \n4  capitalizing on the popularity of the ipod psp...             NaN   24.58  ",
      "text/html": "<div>\n<style scoped>\n    .dataframe tbody tr th:only-of-type {\n        vertical-align: middle;\n    }\n\n    .dataframe tbody tr th {\n        vertical-align: top;\n    }\n\n    .dataframe thead th {\n        text-align: right;\n    }\n</style>\n<table border=\"1\" class=\"dataframe\">\n  <thead>\n    <tr style=\"text-align: right;\">\n      <th></th>\n      <th>id</th>\n      <th>name</th>\n      <th>description</th>\n      <th>manufacturer</th>\n      <th>price</th>\n    </tr>\n  </thead>\n  <tbody>\n    <tr>\n      <th>0</th>\n      <td>12244614697089679523</td>\n      <td>production prem cs3 mac upgrad</td>\n      <td>adobe cs3 production premium mac upgrade from ...</td>\n      <td>adobe software</td>\n      <td>805.99</td>\n    </tr>\n    <tr>\n      <th>1</th>\n      <td>5781318040297863663</td>\n      <td>ipswitch wd-1000-0900 ws_ftp pro 9 sdk w/ ws_f...</td>\n      <td>no description available</td>\n      <td>ipswitch</td>\n      <td>325.51</td>\n    </tr>\n    <tr>\n      <th>2</th>\n      <td>9949258255997064102</td>\n      <td>money prem 2007 cd minibox</td>\n      <td>money premium 2007 win32 english north america...</td>\n      <td>microsoft</td>\n      <td>63.99</td>\n    </tr>\n    <tr>\n      <th>3</th>\n      <td>9761533219806554318</td>\n      <td>adobe indesign cs3 for mac upgrade</td>\n      <td>system requirements powerpc g4 or g5 or intel ...</td>\n      <td>NaN</td>\n      <td>205.99</td>\n    </tr>\n    <tr>\n      <th>4</th>\n      <td>18226456193742595288</td>\n      <td>bamboo technology llc vault360 combo</td>\n      <td>capitalizing on the popularity of the ipod psp...</td>\n      <td>NaN</td>\n      <td>24.58</td>\n    </tr>\n  </tbody>\n</table>\n</div>"
     },
     "execution_count": 4,
     "metadata": {},
     "output_type": "execute_result"
    }
   ],
   "source": [
    "df_SampleCompany2.head(5)\n"
   ],
   "metadata": {
    "collapsed": false,
    "pycharm": {
     "name": "#%%\n"
    }
   }
  },
  {
   "cell_type": "code",
   "execution_count": 5,
   "outputs": [
    {
     "name": "stdout",
     "output_type": "stream",
     "text": [
      "Number of matches: 103\n"
     ]
    }
   ],
   "source": [
    "col_names = ['token_Company1','token_Company2','jd']\n",
    "\n",
    "matches = []\n",
    "matchescomplet = []\n",
    "\n",
    "number_of_matches = 0\n",
    "tokens1=[]\n",
    "tokens2=[]\n",
    "\n",
    "df_score = pd.DataFrame()\n",
    "\n",
    "for i in range(len(df_SampleCompany1)):\n",
    "    tokens1name = nltk.word_tokenize(df_SampleCompany1.iloc[i,1])\n",
    "    ng1_tokensname = set(nltk.ngrams(tokens1name, n=1))\n",
    "    #print(ng1_tokensname)\n",
    "    for j in range(len(df_SampleCompany2)):\n",
    "        tokens2name = nltk.word_tokenize(df_SampleCompany2.iloc[j,1])\n",
    "        ng2_tokensname = set(nltk.ngrams(tokens2name, n=1))\n",
    "        jd_ng1_ng2_name = nltk.jaccard_distance(ng1_tokensname, ng2_tokensname)\n",
    "        name_score = nltk.edit_distance(df_SampleCompany1.iloc[i,1], df_SampleCompany2.iloc[j,1])\n",
    "        if (jd_ng1_ng2_name <= 0.75) or name_score<=1 :\n",
    "            number_of_matches = number_of_matches +1\n",
    "            matches.append((df_SampleCompany1.iloc[i,0],df_SampleCompany2.iloc[j,0]))\n",
    "\n",
    "print(\"Number of matches: {}\".format(number_of_matches))"
   ],
   "metadata": {
    "collapsed": false,
    "pycharm": {
     "name": "#%%\n"
    }
   }
  },
  {
   "cell_type": "code",
   "execution_count": null,
   "outputs": [],
   "source": [],
   "metadata": {
    "collapsed": false,
    "pycharm": {
     "name": "#%%\n"
    }
   }
  },
  {
   "cell_type": "code",
   "execution_count": 10,
   "outputs": [
    {
     "name": "stdout",
     "output_type": "stream",
     "text": [
      "Number of matches: 101\n"
     ]
    }
   ],
   "source": [
    "col_names = ['token_Company1','token_Company2','jd']\n",
    "\n",
    "matches = []\n",
    "matchescomplet = []\n",
    "\n",
    "number_of_matches = 0\n",
    "tokens1=[]\n",
    "tokens2=[]\n",
    "\n",
    "df_score = pd.DataFrame()\n",
    "\n",
    "for i in range(len(df_SampleCompany1)):\n",
    "    tokenizer = nltk.RegexpTokenizer(r\"\\w+\")\n",
    "    tokens1name = tokenizer.tokenize(df_SampleCompany1.iloc[i,1])\n",
    "    ng1_tokensname = set(nltk.ngrams(tokens1name, n=1))\n",
    "    for j in range(len(df_SampleCompany2)):\n",
    "        tokens2name = tokenizer.tokenize(df_SampleCompany2.iloc[j,1])\n",
    "        ng2_tokensname = set(nltk.ngrams(tokens2name, n=1))\n",
    "        jd_ng1_ng2_name = nltk.jaccard_distance(ng1_tokensname,ng2_tokensname)\n",
    "        name_score = nltk.edit_distance(df_SampleCompany1.iloc[i,1], df_SampleCompany2.iloc[j,1])\n",
    "        if (jd_ng1_ng2_name <= 0.70) or name_score<=1 :\n",
    "            number_of_matches = number_of_matches +1\n",
    "            matches.append((df_SampleCompany1.iloc[i,0],df_SampleCompany2.iloc[j,0]))\n",
    "\n",
    "print(\"Number of matches: {}\".format(number_of_matches))\n"
   ],
   "metadata": {
    "collapsed": false,
    "pycharm": {
     "name": "#%%\n"
    }
   }
  },
  {
   "cell_type": "code",
   "execution_count": 19,
   "outputs": [
    {
     "data": {
      "text/plain": "   idCompany1            idCompany2\n0  b0002ibev4   1887899244694755891\n1  b0007lw22g  18398718226932431716\n2  b000ofnri8  12244614697089679523\n3  b0007d8r5k  13775362651326388438\n4  b00099qrok   9755705822363275907",
      "text/html": "<div>\n<style scoped>\n    .dataframe tbody tr th:only-of-type {\n        vertical-align: middle;\n    }\n\n    .dataframe tbody tr th {\n        vertical-align: top;\n    }\n\n    .dataframe thead th {\n        text-align: right;\n    }\n</style>\n<table border=\"1\" class=\"dataframe\">\n  <thead>\n    <tr style=\"text-align: right;\">\n      <th></th>\n      <th>idCompany1</th>\n      <th>idCompany2</th>\n    </tr>\n  </thead>\n  <tbody>\n    <tr>\n      <th>0</th>\n      <td>b0002ibev4</td>\n      <td>1887899244694755891</td>\n    </tr>\n    <tr>\n      <th>1</th>\n      <td>b0007lw22g</td>\n      <td>18398718226932431716</td>\n    </tr>\n    <tr>\n      <th>2</th>\n      <td>b000ofnri8</td>\n      <td>12244614697089679523</td>\n    </tr>\n    <tr>\n      <th>3</th>\n      <td>b0007d8r5k</td>\n      <td>13775362651326388438</td>\n    </tr>\n    <tr>\n      <th>4</th>\n      <td>b00099qrok</td>\n      <td>9755705822363275907</td>\n    </tr>\n  </tbody>\n</table>\n</div>"
     },
     "execution_count": 19,
     "metadata": {},
     "output_type": "execute_result"
    }
   ],
   "source": [
    "ground_truth_matches = pd.read_csv(\"./SampleData/Sample_Groud_truth_mappings.csv\")\n",
    "#ground_truth_matches.insert(0, 'record_ID', range(0, len(ground_truth_matches)))\n",
    "ground_truth_matches.head(5)"
   ],
   "metadata": {
    "collapsed": false,
    "pycharm": {
     "name": "#%%\n"
    }
   }
  },
  {
   "cell_type": "code",
   "execution_count": 20,
   "outputs": [
    {
     "data": {
      "text/plain": "   idCompany1            idCompany2\n0  b0000aka82  15883771067913561390\n1  b000bnb72g  17010841797296818807\n2  b00008ajjc  18424464601572004274\n3  b0006g2wke  18422068306669698354\n4  b0000c6fjm  18413075895200367717",
      "text/html": "<div>\n<style scoped>\n    .dataframe tbody tr th:only-of-type {\n        vertical-align: middle;\n    }\n\n    .dataframe tbody tr th {\n        vertical-align: top;\n    }\n\n    .dataframe thead th {\n        text-align: right;\n    }\n</style>\n<table border=\"1\" class=\"dataframe\">\n  <thead>\n    <tr style=\"text-align: right;\">\n      <th></th>\n      <th>idCompany1</th>\n      <th>idCompany2</th>\n    </tr>\n  </thead>\n  <tbody>\n    <tr>\n      <th>0</th>\n      <td>b0000aka82</td>\n      <td>15883771067913561390</td>\n    </tr>\n    <tr>\n      <th>1</th>\n      <td>b000bnb72g</td>\n      <td>17010841797296818807</td>\n    </tr>\n    <tr>\n      <th>2</th>\n      <td>b00008ajjc</td>\n      <td>18424464601572004274</td>\n    </tr>\n    <tr>\n      <th>3</th>\n      <td>b0006g2wke</td>\n      <td>18422068306669698354</td>\n    </tr>\n    <tr>\n      <th>4</th>\n      <td>b0000c6fjm</td>\n      <td>18413075895200367717</td>\n    </tr>\n  </tbody>\n</table>\n</div>"
     },
     "execution_count": 20,
     "metadata": {},
     "output_type": "execute_result"
    }
   ],
   "source": [
    "matches_df = pd.DataFrame(matches)\n",
    "matches_df.columns= ['idCompany1','idCompany2']\n",
    "matches_df.head(5)"
   ],
   "metadata": {
    "collapsed": false,
    "pycharm": {
     "name": "#%%\n"
    }
   }
  },
  {
   "cell_type": "code",
   "execution_count": 26,
   "outputs": [
    {
     "data": {
      "text/plain": "   idCompany1            idCompany2      Exist\n0  b0002ibev4   1887899244694755891       both\n1  b0007lw22g  18398718226932431716       both\n2  b000ofnri8  12244614697089679523  left_only\n3  b0007d8r5k  13775362651326388438  left_only\n4  b00099qrok   9755705822363275907       both",
      "text/html": "<div>\n<style scoped>\n    .dataframe tbody tr th:only-of-type {\n        vertical-align: middle;\n    }\n\n    .dataframe tbody tr th {\n        vertical-align: top;\n    }\n\n    .dataframe thead th {\n        text-align: right;\n    }\n</style>\n<table border=\"1\" class=\"dataframe\">\n  <thead>\n    <tr style=\"text-align: right;\">\n      <th></th>\n      <th>idCompany1</th>\n      <th>idCompany2</th>\n      <th>Exist</th>\n    </tr>\n  </thead>\n  <tbody>\n    <tr>\n      <th>0</th>\n      <td>b0002ibev4</td>\n      <td>1887899244694755891</td>\n      <td>both</td>\n    </tr>\n    <tr>\n      <th>1</th>\n      <td>b0007lw22g</td>\n      <td>18398718226932431716</td>\n      <td>both</td>\n    </tr>\n    <tr>\n      <th>2</th>\n      <td>b000ofnri8</td>\n      <td>12244614697089679523</td>\n      <td>left_only</td>\n    </tr>\n    <tr>\n      <th>3</th>\n      <td>b0007d8r5k</td>\n      <td>13775362651326388438</td>\n      <td>left_only</td>\n    </tr>\n    <tr>\n      <th>4</th>\n      <td>b00099qrok</td>\n      <td>9755705822363275907</td>\n      <td>both</td>\n    </tr>\n  </tbody>\n</table>\n</div>"
     },
     "execution_count": 26,
     "metadata": {},
     "output_type": "execute_result"
    }
   ],
   "source": [
    "diff_df = pd.merge(ground_truth_matches, matches_df, how='outer', indicator='Exist')\n",
    "diff_df.head(5)"
   ],
   "metadata": {
    "collapsed": false,
    "pycharm": {
     "name": "#%%\n"
    }
   }
  },
  {
   "cell_type": "code",
   "execution_count": 25,
   "outputs": [
    {
     "name": "stdout",
     "output_type": "stream",
     "text": [
      "precision : 0.8415841584158416\n",
      "recall : 0.8173076923076923\n",
      "f_measure : 0.8292682926829268\n"
     ]
    }
   ],
   "source": [
    "true_positives = diff_df[diff_df.Exist=='both']\n",
    "false_positives = diff_df[diff_df.Exist=='right_only']\n",
    "false_negatives = diff_df[diff_df.Exist=='left_only']\n",
    "\n",
    "precision = len(true_positives)/(len(true_positives)+ len(false_positives))\n",
    "recall = len(true_positives)/(len(true_positives)+ len(false_negatives))\n",
    "f_measure = 2*(precision*recall)/(precision+recall)\n",
    "\n",
    "print(f\"precision : {precision}\")\n",
    "print(f\"recall : {recall}\")\n",
    "print(f\"f_measure : {f_measure}\")"
   ],
   "metadata": {
    "collapsed": false,
    "pycharm": {
     "name": "#%%\n"
    }
   }
  },
  {
   "cell_type": "code",
   "execution_count": null,
   "outputs": [],
   "source": [],
   "metadata": {
    "collapsed": false,
    "pycharm": {
     "name": "#%%\n"
    }
   }
  }
 ],
 "metadata": {
  "kernelspec": {
   "display_name": "Python 3",
   "language": "python",
   "name": "python3"
  },
  "language_info": {
   "codemirror_mode": {
    "name": "ipython",
    "version": 2
   },
   "file_extension": ".py",
   "mimetype": "text/x-python",
   "name": "python",
   "nbconvert_exporter": "python",
   "pygments_lexer": "ipython2",
   "version": "2.7.6"
  }
 },
 "nbformat": 4,
 "nbformat_minor": 0
}