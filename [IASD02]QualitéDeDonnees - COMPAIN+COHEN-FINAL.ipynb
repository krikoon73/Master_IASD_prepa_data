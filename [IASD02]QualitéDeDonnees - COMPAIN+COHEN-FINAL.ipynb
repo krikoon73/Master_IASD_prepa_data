{
 "cells": [
  {
   "cell_type": "markdown",
   "metadata": {},
   "source": [
    "# Mini projet Qualité de Données : Détections des doublons\n",
    "## ***Christophe COMPAIN / Sander COHEN***"
   ]
  },
  {
   "cell_type": "markdown",
   "metadata": {},
   "source": [
    "### Objectif et Données Disponibles\n",
    "L'objectif du projet est d'identifier les logiciels vendus sur les deux plateformes.\n",
    "Pour ce faire, nous disposons des données pour chacune des plateformes isolément, respectivement dans les fichiers ***Company1.csv*** et ***Company2.csv***."
   ]
  },
  {
   "cell_type": "markdown",
   "metadata": {},
   "source": [
    "### Import packages, Variables Globales et import csv"
   ]
  },
  {
   "cell_type": "code",
   "execution_count": 1,
   "metadata": {},
   "outputs": [
    {
     "name": "stderr",
     "output_type": "stream",
     "text": [
      "[nltk_data] Downloading package stopwords to\n",
      "[nltk_data]     /Users/ccompain/nltk_data...\n",
      "[nltk_data]   Package stopwords is already up-to-date!\n",
      "[nltk_data] Downloading package wordnet to\n",
      "[nltk_data]     /Users/ccompain/nltk_data...\n",
      "[nltk_data]   Package wordnet is already up-to-date!\n"
     ]
    },
    {
     "data": {
      "text/plain": "True"
     },
     "execution_count": 1,
     "metadata": {},
     "output_type": "execute_result"
    }
   ],
   "source": [
    "import pandas as pd\n",
    "import nltk\n",
    "import time\n",
    "import numpy as np\n",
    "import math\n",
    "import re\n",
    "from sklearn.feature_extraction.text import TfidfVectorizer\n",
    "nltk.download('stopwords')\n",
    "nltk.download('wordnet')"
   ]
  },
  {
   "cell_type": "code",
   "execution_count": 2,
   "metadata": {},
   "outputs": [],
   "source": [
    "#path = \"D:\\\\OneDrive - Université Paris-Dauphine\\\\Bureau\\\\Cours Master\\\\12-Qualité de Données\\\\\\Projet\\\\mini-projet\\\\\"\n",
    "path = \"/Users/ccompain/Documents/code/Dauphine/MasterIASD_prepa_data/mini-projet/github/\"\n",
    "#file1= \"Data\\\\Company1.csv\" #\"SampleData\\\\Sample_Company1.csv\"\n",
    "file1 = \"Data/Company1.csv\"\n",
    "#file2= \"Data\\\\Company2.csv\" #\"SampleData\\\\Sample_Company2.csv\"\n",
    "file2 = \"Data/Company2.csv\"\n",
    "#real= \"Data\\\\Ground_truth_mappings.csv\" #\"SampleData\\\\Sample_Groud_truth_mappings.csv\"\n",
    "real= \"Data/Ground_truth_mappings.csv\" #\"SampleData\\\\Sample_Groud_truth_mappings.csv\""
   ]
  },
  {
   "cell_type": "code",
   "execution_count": 3,
   "metadata": {},
   "outputs": [],
   "source": [
    "company1 = pd.read_csv(path+file1, encoding = \"ISO-8859-1\")\n",
    "company2 = pd.read_csv(path+file2, encoding = \"ISO-8859-1\")\n",
    "ground_truth_matches = pd.read_csv(path+real, encoding = \"ISO-8859-1\").drop_duplicates()"
   ]
  },
  {
   "cell_type": "markdown",
   "metadata": {},
   "source": [
    "### Exploration des données"
   ]
  },
  {
   "cell_type": "markdown",
   "metadata": {
    "pycharm": {
     "name": "#%% md\n"
    }
   },
   "source": [
    "#### Aspects généraux"
   ]
  },
  {
   "cell_type": "code",
   "execution_count": 4,
   "metadata": {},
   "outputs": [
    {
     "data": {
      "text/plain": "           id                                              title  \\\n0  b000jz4hqo    clickart 950 000 - premier image pack (dvd-rom)   \n1  b0006zf55o   ca international - arcserve lap/desktop oem 30pk   \n2  b00004tkvy   noah's ark activity center (jewel case ages 3-8)   \n3  b000g80lqo  peachtree by sage premium accounting for nonpr...   \n4  b0006se5bq                            singing coach unlimited   \n\n                                         description  \\\n0                                                NaN   \n1  oem arcserve backup v11.1 win 30u for laptops ...   \n2                                                NaN   \n3  peachtree premium accounting for nonprofits 20...   \n4  singing coach unlimited - electronic learning ...   \n\n                manufacturer   price  \n0                 broderbund    0.00  \n1        computer associates    0.00  \n2         victory multimedia    0.00  \n3              sage software  599.99  \n4  carry-a-tune technologies   99.99  ",
      "text/html": "<div>\n<style scoped>\n    .dataframe tbody tr th:only-of-type {\n        vertical-align: middle;\n    }\n\n    .dataframe tbody tr th {\n        vertical-align: top;\n    }\n\n    .dataframe thead th {\n        text-align: right;\n    }\n</style>\n<table border=\"1\" class=\"dataframe\">\n  <thead>\n    <tr style=\"text-align: right;\">\n      <th></th>\n      <th>id</th>\n      <th>title</th>\n      <th>description</th>\n      <th>manufacturer</th>\n      <th>price</th>\n    </tr>\n  </thead>\n  <tbody>\n    <tr>\n      <th>0</th>\n      <td>b000jz4hqo</td>\n      <td>clickart 950 000 - premier image pack (dvd-rom)</td>\n      <td>NaN</td>\n      <td>broderbund</td>\n      <td>0.00</td>\n    </tr>\n    <tr>\n      <th>1</th>\n      <td>b0006zf55o</td>\n      <td>ca international - arcserve lap/desktop oem 30pk</td>\n      <td>oem arcserve backup v11.1 win 30u for laptops ...</td>\n      <td>computer associates</td>\n      <td>0.00</td>\n    </tr>\n    <tr>\n      <th>2</th>\n      <td>b00004tkvy</td>\n      <td>noah's ark activity center (jewel case ages 3-8)</td>\n      <td>NaN</td>\n      <td>victory multimedia</td>\n      <td>0.00</td>\n    </tr>\n    <tr>\n      <th>3</th>\n      <td>b000g80lqo</td>\n      <td>peachtree by sage premium accounting for nonpr...</td>\n      <td>peachtree premium accounting for nonprofits 20...</td>\n      <td>sage software</td>\n      <td>599.99</td>\n    </tr>\n    <tr>\n      <th>4</th>\n      <td>b0006se5bq</td>\n      <td>singing coach unlimited</td>\n      <td>singing coach unlimited - electronic learning ...</td>\n      <td>carry-a-tune technologies</td>\n      <td>99.99</td>\n    </tr>\n  </tbody>\n</table>\n</div>"
     },
     "execution_count": 4,
     "metadata": {},
     "output_type": "execute_result"
    }
   ],
   "source": [
    "company1.head(5)"
   ]
  },
  {
   "cell_type": "code",
   "execution_count": 5,
   "metadata": {},
   "outputs": [
    {
     "data": {
      "text/plain": "id              1363\ntitle           1363\ndescription     1248\nmanufacturer    1363\nprice           1363\ndtype: int64"
     },
     "execution_count": 5,
     "metadata": {},
     "output_type": "execute_result"
    }
   ],
   "source": [
    "company1.count()"
   ]
  },
  {
   "cell_type": "code",
   "execution_count": 6,
   "outputs": [
    {
     "data": {
      "text/plain": "                     id                                               name  \\\n0  11125907881740407428                           learning quickbooks 2007   \n1  11538923464407758599            superstart! fun with reading & writing!   \n2  11343515411965421256                          qb pos 6.0 basic software   \n3  12049235575237146821  math missions: the amazing arcade adventure (g...   \n4  12244614697089679523                     production prem cs3 mac upgrad   \n\n                                         description    manufacturer   price  \n0                           learning quickbooks 2007          intuit   38.99  \n1  fun with reading & writing! is designed to hel...             NaN    8.49  \n2  qb pos 6.0 basic retail mngmt software. for re...          intuit  637.99  \n3  save spectacle city by disrupting randall unde...             NaN   12.95  \n4  adobe cs3 production premium mac upgrade from ...  adobe software  805.99  ",
      "text/html": "<div>\n<style scoped>\n    .dataframe tbody tr th:only-of-type {\n        vertical-align: middle;\n    }\n\n    .dataframe tbody tr th {\n        vertical-align: top;\n    }\n\n    .dataframe thead th {\n        text-align: right;\n    }\n</style>\n<table border=\"1\" class=\"dataframe\">\n  <thead>\n    <tr style=\"text-align: right;\">\n      <th></th>\n      <th>id</th>\n      <th>name</th>\n      <th>description</th>\n      <th>manufacturer</th>\n      <th>price</th>\n    </tr>\n  </thead>\n  <tbody>\n    <tr>\n      <th>0</th>\n      <td>11125907881740407428</td>\n      <td>learning quickbooks 2007</td>\n      <td>learning quickbooks 2007</td>\n      <td>intuit</td>\n      <td>38.99</td>\n    </tr>\n    <tr>\n      <th>1</th>\n      <td>11538923464407758599</td>\n      <td>superstart! fun with reading &amp; writing!</td>\n      <td>fun with reading &amp; writing! is designed to hel...</td>\n      <td>NaN</td>\n      <td>8.49</td>\n    </tr>\n    <tr>\n      <th>2</th>\n      <td>11343515411965421256</td>\n      <td>qb pos 6.0 basic software</td>\n      <td>qb pos 6.0 basic retail mngmt software. for re...</td>\n      <td>intuit</td>\n      <td>637.99</td>\n    </tr>\n    <tr>\n      <th>3</th>\n      <td>12049235575237146821</td>\n      <td>math missions: the amazing arcade adventure (g...</td>\n      <td>save spectacle city by disrupting randall unde...</td>\n      <td>NaN</td>\n      <td>12.95</td>\n    </tr>\n    <tr>\n      <th>4</th>\n      <td>12244614697089679523</td>\n      <td>production prem cs3 mac upgrad</td>\n      <td>adobe cs3 production premium mac upgrade from ...</td>\n      <td>adobe software</td>\n      <td>805.99</td>\n    </tr>\n  </tbody>\n</table>\n</div>"
     },
     "execution_count": 6,
     "metadata": {},
     "output_type": "execute_result"
    }
   ],
   "source": [
    "company2.head(5)"
   ],
   "metadata": {
    "collapsed": false,
    "pycharm": {
     "name": "#%%\n"
    }
   }
  },
  {
   "cell_type": "code",
   "execution_count": 7,
   "outputs": [
    {
     "data": {
      "text/plain": "id              3226\nname            3226\ndescription     3035\nmanufacturer     232\nprice           3226\ndtype: int64"
     },
     "execution_count": 7,
     "metadata": {},
     "output_type": "execute_result"
    }
   ],
   "source": [
    "company2.count()"
   ],
   "metadata": {
    "collapsed": false,
    "pycharm": {
     "name": "#%%\n"
    }
   }
  },
  {
   "cell_type": "code",
   "execution_count": 8,
   "outputs": [
    {
     "data": {
      "text/plain": "   idCompany1            idCompany2\n0  b000jz4hqo  18441480711193821750\n1  b00004tkvy  18441110047404795849\n2  b000g80lqo  18441188461196475272\n3  b0006se5bq  18428750969726461849\n4  b00021xhzw  18430621475529168165",
      "text/html": "<div>\n<style scoped>\n    .dataframe tbody tr th:only-of-type {\n        vertical-align: middle;\n    }\n\n    .dataframe tbody tr th {\n        vertical-align: top;\n    }\n\n    .dataframe thead th {\n        text-align: right;\n    }\n</style>\n<table border=\"1\" class=\"dataframe\">\n  <thead>\n    <tr style=\"text-align: right;\">\n      <th></th>\n      <th>idCompany1</th>\n      <th>idCompany2</th>\n    </tr>\n  </thead>\n  <tbody>\n    <tr>\n      <th>0</th>\n      <td>b000jz4hqo</td>\n      <td>18441480711193821750</td>\n    </tr>\n    <tr>\n      <th>1</th>\n      <td>b00004tkvy</td>\n      <td>18441110047404795849</td>\n    </tr>\n    <tr>\n      <th>2</th>\n      <td>b000g80lqo</td>\n      <td>18441188461196475272</td>\n    </tr>\n    <tr>\n      <th>3</th>\n      <td>b0006se5bq</td>\n      <td>18428750969726461849</td>\n    </tr>\n    <tr>\n      <th>4</th>\n      <td>b00021xhzw</td>\n      <td>18430621475529168165</td>\n    </tr>\n  </tbody>\n</table>\n</div>"
     },
     "execution_count": 8,
     "metadata": {},
     "output_type": "execute_result"
    }
   ],
   "source": [
    "ground_truth_matches.head(5)"
   ],
   "metadata": {
    "collapsed": false,
    "pycharm": {
     "name": "#%%\n"
    }
   }
  },
  {
   "cell_type": "code",
   "execution_count": 9,
   "outputs": [
    {
     "data": {
      "text/plain": "idCompany1    1300\nidCompany2    1300\ndtype: int64"
     },
     "execution_count": 9,
     "metadata": {},
     "output_type": "execute_result"
    }
   ],
   "source": [
    "ground_truth_matches.count()"
   ],
   "metadata": {
    "collapsed": false,
    "pycharm": {
     "name": "#%%\n"
    }
   }
  },
  {
   "cell_type": "markdown",
   "source": [
    "#### Top manufacturers"
   ],
   "metadata": {
    "collapsed": false
   }
  },
  {
   "cell_type": "code",
   "execution_count": 10,
   "outputs": [
    {
     "data": {
      "text/plain": "manufacturer\nadobe                   87\nencore software         76\ntopics entertainment    73\nencore                  62\nmicrosoft               58\naspyr media             27\napple                   26\nfogware publishing      19\nintuit                  18\nName: id, dtype: int64"
     },
     "execution_count": 10,
     "metadata": {},
     "output_type": "execute_result"
    }
   ],
   "source": [
    "company1.groupby('manufacturer')['id'].count().sort_values(ascending=False).head(9)"
   ],
   "metadata": {
    "collapsed": false,
    "pycharm": {
     "name": "#%%\n"
    }
   }
  },
  {
   "cell_type": "code",
   "execution_count": 11,
   "outputs": [
    {
     "data": {
      "text/plain": "manufacturer\npunch software         30\nabacus software        27\nfreeverse software     24\nindividual software    24\napple software         15\nintuit                  8\nwebroot software        7\nonone software          7\nce software             6\nName: id, dtype: int64"
     },
     "execution_count": 11,
     "metadata": {},
     "output_type": "execute_result"
    }
   ],
   "source": [
    "company2.groupby('manufacturer')['id'].count().sort_values(ascending=False).head(9)"
   ],
   "metadata": {
    "collapsed": false,
    "pycharm": {
     "name": "#%%\n"
    }
   }
  },
  {
   "cell_type": "markdown",
   "metadata": {},
   "source": [
    "#### Observation d'un premier duplicat"
   ]
  },
  {
   "cell_type": "code",
   "execution_count": 12,
   "metadata": {},
   "outputs": [
    {
     "data": {
      "text/plain": "           id                                             title description  \\\n2  b00004tkvy  noah's ark activity center (jewel case ages 3-8)         NaN   \n\n         manufacturer  price  \n2  victory multimedia    0.0  ",
      "text/html": "<div>\n<style scoped>\n    .dataframe tbody tr th:only-of-type {\n        vertical-align: middle;\n    }\n\n    .dataframe tbody tr th {\n        vertical-align: top;\n    }\n\n    .dataframe thead th {\n        text-align: right;\n    }\n</style>\n<table border=\"1\" class=\"dataframe\">\n  <thead>\n    <tr style=\"text-align: right;\">\n      <th></th>\n      <th>id</th>\n      <th>title</th>\n      <th>description</th>\n      <th>manufacturer</th>\n      <th>price</th>\n    </tr>\n  </thead>\n  <tbody>\n    <tr>\n      <th>2</th>\n      <td>b00004tkvy</td>\n      <td>noah's ark activity center (jewel case ages 3-8)</td>\n      <td>NaN</td>\n      <td>victory multimedia</td>\n      <td>0.0</td>\n    </tr>\n  </tbody>\n</table>\n</div>"
     },
     "execution_count": 12,
     "metadata": {},
     "output_type": "execute_result"
    }
   ],
   "source": [
    "company1[company1.id == ground_truth_matches.idCompany1[1]]"
   ]
  },
  {
   "cell_type": "code",
   "execution_count": 13,
   "metadata": {},
   "outputs": [
    {
     "data": {
      "text/plain": "                        id                                               name  \\\n1881  18441110047404795849  the beginners bible: noah's ark activity cente...   \n\n     description manufacturer price  \n1881         NaN          NaN  9.95  ",
      "text/html": "<div>\n<style scoped>\n    .dataframe tbody tr th:only-of-type {\n        vertical-align: middle;\n    }\n\n    .dataframe tbody tr th {\n        vertical-align: top;\n    }\n\n    .dataframe thead th {\n        text-align: right;\n    }\n</style>\n<table border=\"1\" class=\"dataframe\">\n  <thead>\n    <tr style=\"text-align: right;\">\n      <th></th>\n      <th>id</th>\n      <th>name</th>\n      <th>description</th>\n      <th>manufacturer</th>\n      <th>price</th>\n    </tr>\n  </thead>\n  <tbody>\n    <tr>\n      <th>1881</th>\n      <td>18441110047404795849</td>\n      <td>the beginners bible: noah's ark activity cente...</td>\n      <td>NaN</td>\n      <td>NaN</td>\n      <td>9.95</td>\n    </tr>\n  </tbody>\n</table>\n</div>"
     },
     "execution_count": 13,
     "metadata": {},
     "output_type": "execute_result"
    }
   ],
   "source": [
    "company2[company2.id == ground_truth_matches.idCompany2[1]]"
   ]
  },
  {
   "cell_type": "markdown",
   "metadata": {
    "pycharm": {
     "name": "#%% md\n"
    }
   },
   "source": [
    "### Récupération d'une base de stop_words pour nettoyage des descriptions"
   ]
  },
  {
   "cell_type": "code",
   "execution_count": 14,
   "outputs": [],
   "source": [
    "stop_words = set(nltk.corpus.stopwords.words('english'))\n",
    "stop_words.update([\"r\",\"v\",\"software\",\"entertainment\",\"inc\",\"usa\"])"
   ],
   "metadata": {
    "collapsed": false,
    "pycharm": {
     "name": "#%%\n"
    }
   }
  },
  {
   "cell_type": "markdown",
   "source": [
    "### Fonction de tokenization et nettoyage de chaine de caractères\n",
    " - suppression des caractères non alpha\n",
    " - conversion majuscule vers minuscule\n",
    " - remplacement d'abbréviations communes\n",
    " - lemmatisation"
   ],
   "metadata": {
    "collapsed": false
   }
  },
  {
   "cell_type": "code",
   "execution_count": 15,
   "outputs": [],
   "source": [
    "def prep(texte):\n",
    "    #suppression des caracteres non alphanumériques + tout en minuscule\n",
    "    texte = re.sub(\"[^a-zA-Z0-9_]\", \" \",str(texte)).lower()\n",
    "    #remplacement de mots\n",
    "    texte = texte.replace(\"professional\", \"pro\").replace(\" win \",\" windows \").replace(\" upg \",\" upgrade \").replace(\" dlx \",\" deluxe \")\n",
    "    #tokenization par mot\n",
    "    tokens = nltk.word_tokenize(texte)\n",
    "    #suppression des stopwords\n",
    "    filtered_tokens = [w for w in tokens if not w in stop_words]\n",
    "#    # Stemming\n",
    "#    texte = [nltk.stem.SnowballStemmer('english').stem(w) for w in filtered_tokens]\n",
    "    # Lemmatization\n",
    "    texte = [nltk.stem.WordNetLemmatizer().lemmatize(w) for w in filtered_tokens]\n",
    "    #remise sous forme d'une string\n",
    "    return \" \".join(texte)"
   ],
   "metadata": {
    "collapsed": false,
    "pycharm": {
     "name": "#%%\n"
    }
   }
  },
  {
   "cell_type": "code",
   "execution_count": 10,
   "metadata": {},
   "outputs": [],
   "source": []
  },
  {
   "cell_type": "markdown",
   "source": [
    "### Fonction de normalisation des prix\n",
    " - suppression caractères non-alpha\n",
    " - conversion en minuscule"
   ],
   "metadata": {
    "collapsed": false
   }
  },
  {
   "cell_type": "code",
   "source": [
    "def retreatprice(texte):\n",
    "    #suppression des caracteres non alphanumériques + tout en minuscule\n",
    "    return float(re.sub(\"[^0-9.]\", \" \",str(texte)))"
   ],
   "metadata": {
    "collapsed": false,
    "pycharm": {
     "name": "#%%\n"
    }
   },
   "execution_count": 16,
   "outputs": []
  },
  {
   "cell_type": "markdown",
   "source": [
    "### Pre-Processing des 2 dataframes\n",
    " - Renommage des colonnes\n",
    " - Imputation des \"na\"\n",
    " - Traitement des prix\n",
    " - Construction d'une colonne \"full data\" contenant le titre et le manufacturer sur laquelle la fonction \"prep\" est appliquée\n",
    " - Ajout d'une colonne de version de l'OS"
   ],
   "metadata": {
    "collapsed": false
   }
  },
  {
   "cell_type": "code",
   "execution_count": 17,
   "metadata": {},
   "outputs": [],
   "source": [
    "company1['Company']=\"company1\"\n",
    "company1=company1.rename(columns={\"title\": \"name\"})\n",
    "company1['name'] = company1['name'].fillna(' ')\n",
    "company1['manufacturer'] = company1['manufacturer'].fillna(' ')\n",
    "company1['description'] = company1['description'].fillna(' ')\n",
    "company1['price'] = company1['price'].fillna(' ')\n",
    "company1['price_retreat'] = company1['price'].apply(retreatprice)\n",
    "company1['full data']=company1['manufacturer'].apply(prep) + ' ' + company1['name'].apply(prep) # + ' ' + company1['description'].apply(prep)\n",
    "\n",
    "company2['Company']=\"company2\"\n",
    "company2['name'] = company2['name'].fillna(' ')\n",
    "company2['manufacturer'] = company2['manufacturer'].fillna(' ')\n",
    "company2['description'] = company2['description'].fillna(' ')\n",
    "company2['price'] = company2['price'].fillna(' ')\n",
    "company2['price_retreat'] = company2['price'].apply(retreatprice)\n",
    "company2['full data']=company2['manufacturer'].apply(prep) + ' ' + company2['name'].apply(prep) # + ' ' + company2['description'].apply(prep)"
   ]
  },
  {
   "cell_type": "code",
   "execution_count": 18,
   "metadata": {},
   "outputs": [],
   "source": [
    "#Ajout d'une colonne de version\n",
    "company1['Win']=np.where(company1['name'].str.contains('window') | company1['description'].str.contains('window'),1,0)\n",
    "company1['Mac']=np.where(company1['name'].str.contains('mac') | company1['description'].str.contains('mac'),1,0)\n",
    "company1['Linux']=np.where(company1['name'].str.contains('linux') | company1['description'].str.contains('linux'),1,0)\n",
    "company1['version']=np.select(\n",
    "    [(company1['Win']+company1['Mac']+company1['Linux']==1) & (company1['Win']==1),\n",
    "     (company1['Win']+company1['Mac']+company1['Linux']==1) & (company1['Mac']==1),\n",
    "     (company1['Win']+company1['Mac']+company1['Linux']==1) & (company1['Linux']==1),\n",
    "     (company1['Win']+company1['Mac']+company1['Linux']!=1)\n",
    "    ],\n",
    "    ['Win','Mac','Linux','None'])\n",
    "\n",
    "company2['Win']=np.where(company2['name'].str.contains('window') | company2['description'].str.contains('window'),1,0)\n",
    "company2['Mac']=np.where(company2['name'].str.contains('mac') | company2['description'].str.contains('mac'),1,0)\n",
    "company2['Linux']=np.where(company2['name'].str.contains('linux') | company2['description'].str.contains('linux'),1,0)\n",
    "company2['version']=np.select(\n",
    "    [(company2['Win']+company2['Mac']+company2['Linux']==1) & (company2['Win']==1),\n",
    "     (company2['Win']+company2['Mac']+company2['Linux']==1) & (company2['Mac']==1),\n",
    "     (company2['Win']+company2['Mac']+company2['Linux']==1) & (company2['Linux']==1),\n",
    "     (company2['Win']+company2['Mac']+company2['Linux']!=1)\n",
    "    ],\n",
    "    ['Win','Mac','Linux','None'])"
   ]
  },
  {
   "cell_type": "markdown",
   "metadata": {
    "pycharm": {
     "name": "#%% md\n"
    }
   },
   "source": [
    "### Création d'un Dataframe \"corpus\" contenant les données de company1 et company2"
   ]
  },
  {
   "cell_type": "code",
   "execution_count": 19,
   "metadata": {},
   "outputs": [],
   "source": [
    "corpus = pd.concat([company1, company2],sort=False,ignore_index=True)\n",
    "#corpus.reset_index(drop=True)"
   ]
  },
  {
   "cell_type": "code",
   "execution_count": 20,
   "outputs": [
    {
     "data": {
      "text/plain": "4589"
     },
     "execution_count": 20,
     "metadata": {},
     "output_type": "execute_result"
    }
   ],
   "source": [
    "len(corpus)"
   ],
   "metadata": {
    "collapsed": false,
    "pycharm": {
     "name": "#%%\n"
    }
   }
  },
  {
   "cell_type": "code",
   "execution_count": 21,
   "outputs": [
    {
     "data": {
      "text/plain": "                        id                                            name  \\\n4584  14872602878188858026                 jumpstart(r) advanced 1st grade   \n4585  14916162814320983138          ibm(r) viavoice(r) advanced edition 10   \n4586  14974113209571399013                          xbox 360: gears of war   \n4587  14986935400648190776                     documents to go premium 7.0   \n4588  14996991014087320062  microsoft(r) picture it! digital image pro 9.0   \n\n                                            description manufacturer  price  \\\n4584  prepare your child for the 1st grade and beyon...               19.99   \n4585  ibm viavoice advanced edition release 10 is a ...               78.95   \n4586  as marcus fenix you fight a war against the im...               59.99   \n4587  this pda software enables you to use your docu...               49.99   \n4588  picture it! digital image pro puts you in cont...               99.87   \n\n       Company  price_retreat                                 full data  Win  \\\n4584  company2          19.99              jumpstart advanced 1st grade    0   \n4585  company2          78.95          ibm viavoice advanced edition 10    1   \n4586  company2          59.99                         xbox 360 gear war    0   \n4587  company2          49.99                   document go premium 7 0    0   \n4588  company2          99.87   microsoft picture digital image pro 9 0    0   \n\n      Mac  Linux version  \n4584    0      0    None  \n4585    0      0     Win  \n4586    0      0    None  \n4587    0      0    None  \n4588    0      0    None  ",
      "text/html": "<div>\n<style scoped>\n    .dataframe tbody tr th:only-of-type {\n        vertical-align: middle;\n    }\n\n    .dataframe tbody tr th {\n        vertical-align: top;\n    }\n\n    .dataframe thead th {\n        text-align: right;\n    }\n</style>\n<table border=\"1\" class=\"dataframe\">\n  <thead>\n    <tr style=\"text-align: right;\">\n      <th></th>\n      <th>id</th>\n      <th>name</th>\n      <th>description</th>\n      <th>manufacturer</th>\n      <th>price</th>\n      <th>Company</th>\n      <th>price_retreat</th>\n      <th>full data</th>\n      <th>Win</th>\n      <th>Mac</th>\n      <th>Linux</th>\n      <th>version</th>\n    </tr>\n  </thead>\n  <tbody>\n    <tr>\n      <th>4584</th>\n      <td>14872602878188858026</td>\n      <td>jumpstart(r) advanced 1st grade</td>\n      <td>prepare your child for the 1st grade and beyon...</td>\n      <td></td>\n      <td>19.99</td>\n      <td>company2</td>\n      <td>19.99</td>\n      <td>jumpstart advanced 1st grade</td>\n      <td>0</td>\n      <td>0</td>\n      <td>0</td>\n      <td>None</td>\n    </tr>\n    <tr>\n      <th>4585</th>\n      <td>14916162814320983138</td>\n      <td>ibm(r) viavoice(r) advanced edition 10</td>\n      <td>ibm viavoice advanced edition release 10 is a ...</td>\n      <td></td>\n      <td>78.95</td>\n      <td>company2</td>\n      <td>78.95</td>\n      <td>ibm viavoice advanced edition 10</td>\n      <td>1</td>\n      <td>0</td>\n      <td>0</td>\n      <td>Win</td>\n    </tr>\n    <tr>\n      <th>4586</th>\n      <td>14974113209571399013</td>\n      <td>xbox 360: gears of war</td>\n      <td>as marcus fenix you fight a war against the im...</td>\n      <td></td>\n      <td>59.99</td>\n      <td>company2</td>\n      <td>59.99</td>\n      <td>xbox 360 gear war</td>\n      <td>0</td>\n      <td>0</td>\n      <td>0</td>\n      <td>None</td>\n    </tr>\n    <tr>\n      <th>4587</th>\n      <td>14986935400648190776</td>\n      <td>documents to go premium 7.0</td>\n      <td>this pda software enables you to use your docu...</td>\n      <td></td>\n      <td>49.99</td>\n      <td>company2</td>\n      <td>49.99</td>\n      <td>document go premium 7 0</td>\n      <td>0</td>\n      <td>0</td>\n      <td>0</td>\n      <td>None</td>\n    </tr>\n    <tr>\n      <th>4588</th>\n      <td>14996991014087320062</td>\n      <td>microsoft(r) picture it! digital image pro 9.0</td>\n      <td>picture it! digital image pro puts you in cont...</td>\n      <td></td>\n      <td>99.87</td>\n      <td>company2</td>\n      <td>99.87</td>\n      <td>microsoft picture digital image pro 9 0</td>\n      <td>0</td>\n      <td>0</td>\n      <td>0</td>\n      <td>None</td>\n    </tr>\n  </tbody>\n</table>\n</div>"
     },
     "execution_count": 21,
     "metadata": {},
     "output_type": "execute_result"
    }
   ],
   "source": [
    "corpus.tail()"
   ],
   "metadata": {
    "collapsed": false,
    "pycharm": {
     "name": "#%%\n"
    }
   }
  },
  {
   "cell_type": "code",
   "execution_count": 22,
   "metadata": {},
   "outputs": [],
   "source": [
    "###SUPPRIME : ne donne pas les resultats escomptés\n",
    "###recherche des mots unique pour les supprimer\n",
    "allwords = corpus['full data'].str.split(expand=True).stack().value_counts()\n",
    "stop_unique = set(allwords[allwords==1].index)\n",
    "def prep2(texte):\n",
    "    tokens = nltk.word_tokenize(texte)\n",
    "    #supreesion des stopwords\n",
    "    filtered_tokens = [w for w in tokens if not w in stop_unique]\n",
    "    #remise sous forme d'une string\n",
    "    return \" \".join(filtered_tokens)\n",
    "#company1['full data']=company1['full data'].apply(prep2)\n",
    "#company2['full data']=company2['full data'].apply(prep2)"
   ]
  },
  {
   "cell_type": "markdown",
   "source": [
    "### Fonction d'identification des doublons\n",
    " Après quelques essais pas forcément concluants utilisants la distance de Jacquard, nous avons décidés d'expérimenter TF-IDF\n",
    " - TF : Term-Frequency => Renvoie la fréquence de chaque mot dans le corpus\n",
    " - IDF : Inverse-Data-Frequency => Calcule du poids des mots\n",
    " - le TF-IDF score sera le produit des 2 précédentes valeurs\n",
    "\n",
    "Nous avons également utilisé le \"prix\" comme critère de proximité :\n",
    " - `(price1* price2 == 0 or max(price1, price2)/min(price1, price2)<2)`"
   ],
   "metadata": {
    "collapsed": false
   }
  },
  {
   "cell_type": "code",
   "execution_count": 23,
   "metadata": {},
   "outputs": [],
   "source": [
    "#fonction tfidf\n",
    "def filtre_tfidf(corpus, ngram, max_df,sim_lim, stop):\n",
    "    global number_of_matches, matches, matches_df\n",
    "    start = time.process_time()\n",
    "    new_number_of_matches = 0\n",
    "    new_matches=[]\n",
    "\n",
    "    vectorizer = TfidfVectorizer(ngram_range=ngram, max_df=max_df,sublinear_tf=True,stop_words=[stop]) \n",
    "    vectors = vectorizer.fit_transform(corpus['full data'])\n",
    "    feature_names = vectorizer.get_feature_names()\n",
    "    dense = vectors.todense()\n",
    "\n",
    "    for i in range(len(company1_light)):\n",
    "        #try :  \n",
    "        price1 = float(company1_light.iloc[i,6]) \n",
    "        #except : \n",
    "        #    price1 = 0\n",
    "        #tokens1name = nltk.word_tokenize(company1_light.iloc[i,7])\n",
    "        for j in range(len(company2_light)):\n",
    "            #try :  \n",
    "            price2 = float(company2_light.iloc[j,6]) \n",
    "            #except : \n",
    "            #    price2 = 0\n",
    "            #tokens2name = nltk.word_tokenize(company2_light.iloc[j,7])\n",
    "            #ng2_tokensname = set(nltk.ngrams(tokens2name, n=1))\n",
    "            #jd_ng1_ng2_name = nltk.jaccard_distance(ng1_tokensname, ng2_tokensname)\n",
    "            if (price1* price2 == 0 or max(price1, price2)/min(price1, price2)<2) and (company1_light.iloc[i,11]==company2_light.iloc[j,11] or company1_light.iloc[i,11]=='None' or company2_light.iloc[j,11]=='None'):\n",
    "                try :\n",
    "                    similarity = np.dot(dense[i],np.transpose(dense[len(company1_light)+j])).item(0)/math.sqrt(np.dot(dense[i],np.transpose(dense[i])).item(0) * np.dot(dense[len(company1_light)+j],np.transpose(dense[len(company1_light)+j])).item(0))\n",
    "                except : \n",
    "                    similarity = 0\n",
    "                if  similarity > sim_lim: #or jd_ng1_ng2_name<0.2 :# or name_score<=1) :\n",
    "                    new_number_of_matches = new_number_of_matches +1\n",
    "                    new_matches.append((company1_light.iloc[i,0],company2_light.iloc[j,0]))\n",
    "\n",
    "    if new_number_of_matches>0:\n",
    "        print(\"New matches: {}\".format(new_number_of_matches))\n",
    "        number_of_matches= number_of_matches + new_number_of_matches\n",
    "        print(\"Total matches: {}\".format(number_of_matches))\n",
    "        if matches== []:\n",
    "            matches = new_matches \n",
    "            matches_df = pd.DataFrame(matches)\n",
    "            matches_df.columns= ['idCompany1','idCompany2']\n",
    "        else:\n",
    "            new_matches_df = pd.DataFrame(new_matches)\n",
    "            new_matches_df.columns= ['idCompany1','idCompany2']\n",
    "            matches_df = pd.concat([matches_df, new_matches_df],sort=False,ignore_index=True).drop_duplicates()\n",
    "\n",
    "        diff_df = pd.merge(ground_truth_matches, matches_df, how='outer', indicator='Exist')\n",
    "        true_positives = diff_df[diff_df.Exist=='both']\n",
    "        false_positives = diff_df[diff_df.Exist=='right_only']\n",
    "        false_negatives = diff_df[diff_df.Exist=='left_only']\n",
    "        print(\"Number of true positives: {}\".format(len(true_positives)))\n",
    "        print(\"Number of false positives: {}\".format(len(false_positives)))\n",
    "        print(\"Number of false negatives: {}\".format(len(false_negatives)))\n",
    "        precision = len(true_positives)/(len(true_positives)+ len(false_positives))\n",
    "        print(\"Precision: {}\".format(precision))\n",
    "        recall = len(true_positives)/(len(true_positives)+ len(false_negatives))\n",
    "        print(\"Recall: {}\".format(recall))\n",
    "        try :\n",
    "            f_measure = 2*(precision*recall)/(precision+recall)\n",
    "            print(\"F measure: {}\".format(f_measure))\n",
    "        except:\n",
    "            print(\"F measure not calculable\")\n",
    "    else:\n",
    "        print(\"No new match\")\n",
    "    end = time.process_time()\n",
    "    print(\"Processing time: {}\".format(end - start))"
   ]
  },
  {
   "cell_type": "code",
   "execution_count": 24,
   "metadata": {},
   "outputs": [],
   "source": [
    "company1_light=company1\n",
    "company2_light=company2"
   ]
  },
  {
   "cell_type": "code",
   "execution_count": 25,
   "metadata": {},
   "outputs": [
    {
     "name": "stdout",
     "output_type": "stream",
     "text": [
      "microsoft with ngram=(1,2)\n",
      "New matches: 36\n",
      "Total matches: 36\n",
      "Number of true positives: 22\n",
      "Number of false positives: 14\n",
      "Number of false negatives: 1278\n",
      "Precision: 0.6111111111111112\n",
      "Recall: 0.016923076923076923\n",
      "F measure: 0.03293413173652695\n",
      "Processing time: 1.2501489999999995\n",
      " \n",
      "microsoft with ngram=(1,1)\n",
      "New matches: 13\n",
      "Total matches: 49\n",
      "Number of true positives: 29\n",
      "Number of false positives: 20\n",
      "Number of false negatives: 1271\n",
      "Precision: 0.5918367346938775\n",
      "Recall: 0.022307692307692306\n",
      "F measure: 0.04299481097108969\n",
      "Processing time: 0.5417419999999993\n",
      " \n",
      "apple with ngram=(1,2)\n",
      "New matches: 19\n",
      "Total matches: 68\n",
      "Number of true positives: 43\n",
      "Number of false positives: 25\n",
      "Number of false negatives: 1257\n",
      "Precision: 0.6323529411764706\n",
      "Recall: 0.03307692307692308\n",
      "F measure: 0.06286549707602339\n",
      "Processing time: 0.16066499999999984\n",
      " \n",
      "apple with ngram=(1,1)\n",
      "New matches: 12\n",
      "Total matches: 80\n",
      "Number of true positives: 53\n",
      "Number of false positives: 27\n",
      "Number of false negatives: 1247\n",
      "Precision: 0.6625\n",
      "Recall: 0.040769230769230766\n",
      "F measure: 0.07681159420289854\n",
      "Processing time: 0.1096060000000012\n",
      " \n",
      "encore with ngram=(1,2)\n",
      "New matches: 140\n",
      "Total matches: 220\n",
      "Number of true positives: 124\n",
      "Number of false positives: 96\n",
      "Number of false negatives: 1176\n",
      "Precision: 0.5636363636363636\n",
      "Recall: 0.09538461538461539\n",
      "F measure: 0.1631578947368421\n",
      "Processing time: 2.2265250000000005\n",
      " \n",
      "encore with ngram=(1,1)\n",
      "New matches: 33\n",
      "Total matches: 253\n",
      "Number of true positives: 146\n",
      "Number of false positives: 107\n",
      "Number of false negatives: 1154\n",
      "Precision: 0.5770750988142292\n",
      "Recall: 0.1123076923076923\n",
      "F measure: 0.18802318094011589\n",
      "Processing time: 0.49611600000000067\n",
      " \n",
      "adobe with ngram=(1,2)\n",
      "New matches: 87\n",
      "Total matches: 340\n",
      "Number of true positives: 191\n",
      "Number of false positives: 149\n",
      "Number of false negatives: 1109\n",
      "Precision: 0.5617647058823529\n",
      "Recall: 0.14692307692307693\n",
      "F measure: 0.2329268292682927\n",
      "Processing time: 0.9569119999999991\n",
      " \n",
      "adobe with ngram=(1,1)\n",
      "New matches: 17\n",
      "Total matches: 357\n",
      "Number of true positives: 199\n",
      "Number of false positives: 158\n",
      "Number of false negatives: 1101\n",
      "Precision: 0.5574229691876751\n",
      "Recall: 0.15307692307692308\n",
      "F measure: 0.24019312009656005\n",
      "Processing time: 0.3115869999999994\n",
      " \n",
      "punch with ngram=(1,2)\n",
      "New matches: 2\n",
      "Total matches: 359\n",
      "Number of true positives: 201\n",
      "Number of false positives: 158\n",
      "Number of false negatives: 1099\n",
      "Precision: 0.5598885793871866\n",
      "Recall: 0.15461538461538463\n",
      "F measure: 0.24231464737793854\n",
      "Processing time: 0.08014399999999888\n",
      " \n",
      "punch with ngram=(1,1)\n",
      "New matches: 1\n",
      "Total matches: 360\n",
      "Number of true positives: 202\n",
      "Number of false positives: 158\n",
      "Number of false negatives: 1098\n",
      "Precision: 0.5611111111111111\n",
      "Recall: 0.15538461538461537\n",
      "F measure: 0.2433734939759036\n",
      "Processing time: 0.07833999999999897\n",
      " \n",
      "topic with ngram=(1,2)\n",
      "New matches: 32\n",
      "Total matches: 392\n",
      "Number of true positives: 228\n",
      "Number of false positives: 164\n",
      "Number of false negatives: 1072\n",
      "Precision: 0.5816326530612245\n",
      "Recall: 0.1753846153846154\n",
      "F measure: 0.2695035460992908\n",
      "Processing time: 0.25960600000000156\n",
      " \n",
      "topic with ngram=(1,1)\n",
      "No new match\n",
      "Processing time: 0.055812000000001305\n",
      " \n",
      "aspyr with ngram=(1,2)\n",
      "New matches: 16\n",
      "Total matches: 408\n",
      "Number of true positives: 243\n",
      "Number of false positives: 165\n",
      "Number of false negatives: 1057\n",
      "Precision: 0.5955882352941176\n",
      "Recall: 0.18692307692307691\n",
      "F measure: 0.2845433255269321\n",
      "Processing time: 0.08643499999999982\n",
      " \n",
      "aspyr with ngram=(1,1)\n",
      "New matches: 3\n",
      "Total matches: 411\n",
      "Number of true positives: 246\n",
      "Number of false positives: 165\n",
      "Number of false negatives: 1054\n",
      "Precision: 0.5985401459854015\n",
      "Recall: 0.18923076923076923\n",
      "F measure: 0.2875511396843951\n",
      "Processing time: 0.030244999999998967\n",
      " \n",
      "sony with ngram=(1,2)\n",
      "New matches: 12\n",
      "Total matches: 423\n",
      "Number of true positives: 255\n",
      "Number of false positives: 168\n",
      "Number of false negatives: 1045\n",
      "Precision: 0.6028368794326241\n",
      "Recall: 0.19615384615384615\n",
      "F measure: 0.2959953569355775\n",
      "Processing time: 0.10345799999999983\n",
      " \n",
      "sony with ngram=(1,1)\n",
      "New matches: 4\n",
      "Total matches: 427\n",
      "Number of true positives: 258\n",
      "Number of false positives: 169\n",
      "Number of false negatives: 1042\n",
      "Precision: 0.6042154566744731\n",
      "Recall: 0.19846153846153847\n",
      "F measure: 0.29878401852924147\n",
      "Processing time: 0.058054999999999524\n",
      " \n",
      "webroot with ngram=(1,2)\n",
      "New matches: 1\n",
      "Total matches: 428\n",
      "Number of true positives: 258\n",
      "Number of false positives: 170\n",
      "Number of false negatives: 1042\n",
      "Precision: 0.602803738317757\n",
      "Recall: 0.19846153846153847\n",
      "F measure: 0.2986111111111111\n",
      "Processing time: 0.04237900000000039\n",
      " \n",
      "webroot with ngram=(1,1)\n",
      "New matches: 2\n",
      "Total matches: 430\n",
      "Number of true positives: 260\n",
      "Number of false positives: 170\n",
      "Number of false negatives: 1040\n",
      "Precision: 0.6046511627906976\n",
      "Recall: 0.2\n",
      "F measure: 0.30057803468208094\n",
      "Processing time: 0.03975799999999907\n",
      " \n"
     ]
    }
   ],
   "source": [
    "#boucle sur les big manufacturer\n",
    "big_manufacturer_list=[\"microsoft\",\"apple\",\"encore\",\"adobe\",\"punch\",\"topic\",\"aspyr\",\"sony\",\"webroot\"]\n",
    "number_of_matches = 0\n",
    "matches=[]\n",
    "matches_df=[]\n",
    "for filtre in big_manufacturer_list :\n",
    "    for max_ngram in [2,1]:\n",
    "        try :\n",
    "            company1_light=company1[~company1.id.isin(matches_df.idCompany1)]\n",
    "            company2_light=company2[~company2.id.isin(matches_df.idCompany2)]    \n",
    "        except : \n",
    "            company1_light=company1\n",
    "            company2_light=company2        \n",
    "        company1_light = company1_light[company1_light['full data'].str.contains(filtre)].reset_index(drop=True)\n",
    "        company2_light = company2_light[company2_light['full data'].str.contains(filtre)].reset_index(drop=True)\n",
    "        corpus = pd.concat([company1_light, company2_light],sort=False,ignore_index=True)\n",
    "        print(\"{} with ngram=(1,{})\".format(filtre,max_ngram))\n",
    "        filtre_tfidf(corpus, (1,max_ngram), 0.1 ,0.6, filtre)\n",
    "        print(\" \")"
   ]
  },
  {
   "cell_type": "code",
   "execution_count": 26,
   "outputs": [
    {
     "name": "stdout",
     "output_type": "stream",
     "text": [
      "Other entries with ngram=(1,3)\n",
      "New matches: 578\n",
      "Total matches: 1008\n",
      "Number of true positives: 644\n",
      "Number of false positives: 364\n",
      "Number of false negatives: 656\n",
      "Precision: 0.6388888888888888\n",
      "Recall: 0.49538461538461537\n",
      "F measure: 0.5580589254766031\n",
      "Processing time: 1394.1810930000001\n",
      " \n",
      "Other entries with ngram=(1,2)\n",
      "New matches: 170\n",
      "Total matches: 1178\n",
      "Number of true positives: 758\n",
      "Number of false positives: 420\n",
      "Number of false negatives: 542\n",
      "Precision: 0.6434634974533107\n",
      "Recall: 0.583076923076923\n",
      "F measure: 0.6117836965294593\n",
      "Processing time: 656.8266289999999\n",
      " \n",
      "Other entries with ngram=(1,1)\n",
      "New matches: 288\n",
      "Total matches: 1466\n",
      "Number of true positives: 906\n",
      "Number of false positives: 560\n",
      "Number of false negatives: 394\n",
      "Precision: 0.6180081855388813\n",
      "Recall: 0.696923076923077\n",
      "F measure: 0.6550976138828634\n",
      "Processing time: 64.15175499999987\n",
      " \n"
     ]
    }
   ],
   "source": [
    "##boucle sur les autres noms\n",
    "for max_ngram in [3,2,1]:\n",
    "    company1_light=company1[~company1.id.isin(matches_df.idCompany1)]\n",
    "    company2_light=company2[~company2.id.isin(matches_df.idCompany2)]    \n",
    "    corpus = pd.concat([company1_light, company2_light],sort=False,ignore_index=True)\n",
    "    print(\"Other entries with ngram=(1,{})\".format(max_ngram))\n",
    "    filtre_tfidf(corpus, (1,max_ngram), 0.01 ,0.5, \"\")\n",
    "    print(\" \")\n",
    "\n",
    "\n"
   ],
   "metadata": {
    "collapsed": false,
    "pycharm": {
     "name": "#%%\n"
    }
   }
  }
 ],
 "metadata": {
  "celltoolbar": "Format de la Cellule Texte Brut",
  "kernelspec": {
   "display_name": "Python 3",
   "language": "python",
   "name": "python3"
  },
  "language_info": {
   "codemirror_mode": {
    "name": "ipython",
    "version": 3
   },
   "file_extension": ".py",
   "mimetype": "text/x-python",
   "name": "python",
   "nbconvert_exporter": "python",
   "pygments_lexer": "ipython3",
   "version": "3.7.4"
  }
 },
 "nbformat": 4,
 "nbformat_minor": 4
}