{
 "cells": [
  {
   "cell_type": "code",
   "execution_count": 1,
   "metadata": {
    "collapsed": true
   },
   "outputs": [],
   "source": [
    "import numpy as np\n",
    "import pandas as pd\n",
    "\n",
    "data1 = np.array([[0,0,0],[1,1,1],[2,2,2],[3,3,3],[4,4,4],[5,5,5],[6,6,6],[7,7,7],[8,8,8],[9,9,9]])\n",
    "\n",
    "data2 = np.array([[0,0,0],[1,1,1],[2,2,2],[3,3,3],[4,4,4],[5,5,5],[6,6,6],[7,7,7],[8,8,8],[9,9,9]])\n",
    "\n",
    "index_value = [0,1,2,3,4,5,6,7,8,9]\n",
    "column_values = ['col1','col2','col3']\n"
   ]
  },
  {
   "cell_type": "code",
   "execution_count": 2,
   "outputs": [
    {
     "data": {
      "text/plain": "   col1  col2  col3\n0     0     0     0\n1     1     1     1\n2     2     2     2\n3     3     3     3\n4     4     4     4\n5     5     5     5\n6     6     6     6\n7     7     7     7\n8     8     8     8\n9     9     9     9",
      "text/html": "<div>\n<style scoped>\n    .dataframe tbody tr th:only-of-type {\n        vertical-align: middle;\n    }\n\n    .dataframe tbody tr th {\n        vertical-align: top;\n    }\n\n    .dataframe thead th {\n        text-align: right;\n    }\n</style>\n<table border=\"1\" class=\"dataframe\">\n  <thead>\n    <tr style=\"text-align: right;\">\n      <th></th>\n      <th>col1</th>\n      <th>col2</th>\n      <th>col3</th>\n    </tr>\n  </thead>\n  <tbody>\n    <tr>\n      <th>0</th>\n      <td>0</td>\n      <td>0</td>\n      <td>0</td>\n    </tr>\n    <tr>\n      <th>1</th>\n      <td>1</td>\n      <td>1</td>\n      <td>1</td>\n    </tr>\n    <tr>\n      <th>2</th>\n      <td>2</td>\n      <td>2</td>\n      <td>2</td>\n    </tr>\n    <tr>\n      <th>3</th>\n      <td>3</td>\n      <td>3</td>\n      <td>3</td>\n    </tr>\n    <tr>\n      <th>4</th>\n      <td>4</td>\n      <td>4</td>\n      <td>4</td>\n    </tr>\n    <tr>\n      <th>5</th>\n      <td>5</td>\n      <td>5</td>\n      <td>5</td>\n    </tr>\n    <tr>\n      <th>6</th>\n      <td>6</td>\n      <td>6</td>\n      <td>6</td>\n    </tr>\n    <tr>\n      <th>7</th>\n      <td>7</td>\n      <td>7</td>\n      <td>7</td>\n    </tr>\n    <tr>\n      <th>8</th>\n      <td>8</td>\n      <td>8</td>\n      <td>8</td>\n    </tr>\n    <tr>\n      <th>9</th>\n      <td>9</td>\n      <td>9</td>\n      <td>9</td>\n    </tr>\n  </tbody>\n</table>\n</div>"
     },
     "execution_count": 2,
     "metadata": {},
     "output_type": "execute_result"
    }
   ],
   "source": [
    "df1 = pd.DataFrame(data=data1,index = index_value,columns=column_values)\n",
    "df2 = pd.DataFrame(data=data2,index = index_value,columns=column_values)\n",
    "\n",
    "df1"
   ],
   "metadata": {
    "collapsed": false,
    "pycharm": {
     "name": "#%%\n"
    }
   }
  },
  {
   "cell_type": "code",
   "execution_count": 3,
   "outputs": [],
   "source": [
    "def simple_recursive_func(i,j,n):\n",
    "    if i == 0 and j == 0:\n",
    "        print(f\"i={i} j={j}\")\n",
    "        j += 1\n",
    "    if i == n and j == n:\n",
    "        print(f\"i={i} j={j}\")\n",
    "        return 0\n",
    "    else:\n",
    "        i += 1\n",
    "        j = 0\n",
    "        while (j < n):\n",
    "            if i == j:\n",
    "                print(f\"i={i} j={j}\")\n",
    "            j += 1\n",
    "    simple_recursive_func(i,j,n)\n"
   ],
   "metadata": {
    "collapsed": false,
    "pycharm": {
     "name": "#%%\n"
    }
   }
  },
  {
   "cell_type": "code",
   "execution_count": 4,
   "outputs": [
    {
     "name": "stdout",
     "output_type": "stream",
     "text": [
      "i=0 j=0\n",
      "i=1 j=1\n",
      "i=2 j=2\n",
      "i=3 j=3\n",
      "i=4 j=4\n",
      "i=5 j=5\n",
      "i=6 j=6\n",
      "i=7 j=7\n",
      "i=8 j=8\n",
      "i=9 j=9\n",
      "i=10 j=10\n"
     ]
    }
   ],
   "source": [
    "simple_recursive_func(0,0,10)"
   ],
   "metadata": {
    "collapsed": false,
    "pycharm": {
     "name": "#%%\n"
    }
   }
  },
  {
   "cell_type": "code",
   "execution_count": 5,
   "outputs": [],
   "source": [
    "matches = []\n",
    "N = len(df1)-1\n",
    "P = len(df2)-1"
   ],
   "metadata": {
    "collapsed": false,
    "pycharm": {
     "name": "#%%\n"
    }
   }
  },
  {
   "cell_type": "code",
   "execution_count": 49,
   "outputs": [],
   "source": [
    "def recursive_func_df(df_a,df_b,i,j,n1,n2):\n",
    "    if i > n1:\n",
    "        print(\"!STOP RECURSION!\")\n",
    "        return matches\n",
    "    j = 0\n",
    "    while (i <= n1 and j <= n2):\n",
    "        #print(f\"i={i} j={j}\")\n",
    "        if i == j:\n",
    "            print(f\"MATCHES i={i} j={j} \")\n",
    "            matches.append((df_a.iloc[i,0],df_b.iloc[j,0]))\n",
    "        j += 1\n",
    "    i += 1\n",
    "    #print(f\"AFTER WHILE => i={i} j={j}\")\n",
    "    recursive_func_df(df_a,df_b,i,j,n1,n2)"
   ],
   "metadata": {
    "collapsed": false,
    "pycharm": {
     "name": "#%%\n"
    }
   }
  },
  {
   "cell_type": "code",
   "execution_count": 50,
   "outputs": [
    {
     "name": "stdout",
     "output_type": "stream",
     "text": [
      "MATCHES i=0 j=0 \n",
      "MATCHES i=1 j=1 \n",
      "MATCHES i=2 j=2 \n",
      "MATCHES i=3 j=3 \n",
      "MATCHES i=4 j=4 \n",
      "MATCHES i=5 j=5 \n",
      "MATCHES i=6 j=6 \n",
      "MATCHES i=7 j=7 \n",
      "MATCHES i=8 j=8 \n",
      "MATCHES i=9 j=9 \n",
      "!STOP RECURSION!\n"
     ]
    }
   ],
   "source": [
    "recursive_func_df(df1,df2,0,0,N,P)"
   ],
   "metadata": {
    "collapsed": false,
    "pycharm": {
     "name": "#%%\n"
    }
   }
  },
  {
   "cell_type": "code",
   "execution_count": 51,
   "outputs": [
    {
     "data": {
      "text/plain": "[(0, 0),\n (1, 1),\n (2, 2),\n (3, 3),\n (4, 4),\n (5, 5),\n (6, 6),\n (7, 7),\n (8, 8),\n (9, 9)]"
     },
     "execution_count": 51,
     "metadata": {},
     "output_type": "execute_result"
    }
   ],
   "source": [
    "matches"
   ],
   "metadata": {
    "collapsed": false,
    "pycharm": {
     "name": "#%%\n"
    }
   }
  },
  {
   "cell_type": "code",
   "execution_count": 52,
   "outputs": [],
   "source": [
    "data3 = np.arange(100)\n",
    "data4 = np.arange(200)\n",
    "index3_value = np.arange(100)\n",
    "index4_value = np.arange(200)"
   ],
   "metadata": {
    "collapsed": false,
    "pycharm": {
     "name": "#%%\n"
    }
   }
  },
  {
   "cell_type": "code",
   "execution_count": 53,
   "outputs": [],
   "source": [
    "column1_values = ['col1']\n",
    "df3 = pd.DataFrame(data=data3,index = index3_value,columns=column1_values)\n",
    "df4 = pd.DataFrame(data=data4,index = index4_value,columns=column1_values)"
   ],
   "metadata": {
    "collapsed": false,
    "pycharm": {
     "name": "#%%\n"
    }
   }
  },
  {
   "cell_type": "code",
   "execution_count": 54,
   "outputs": [],
   "source": [
    "matches = []\n",
    "n3 = len(df3)-1\n",
    "n4 = len(df4)-1"
   ],
   "metadata": {
    "collapsed": false,
    "pycharm": {
     "name": "#%%\n"
    }
   }
  },
  {
   "cell_type": "code",
   "execution_count": 55,
   "outputs": [
    {
     "name": "stdout",
     "output_type": "stream",
     "text": [
      "MATCHES i=0 j=0 \n",
      "MATCHES i=1 j=1 \n",
      "MATCHES i=2 j=2 \n",
      "MATCHES i=3 j=3 \n",
      "MATCHES i=4 j=4 \n",
      "MATCHES i=5 j=5 \n",
      "MATCHES i=6 j=6 \n",
      "MATCHES i=7 j=7 \n",
      "MATCHES i=8 j=8 \n",
      "MATCHES i=9 j=9 \n",
      "MATCHES i=10 j=10 \n",
      "MATCHES i=11 j=11 \n",
      "MATCHES i=12 j=12 \n",
      "MATCHES i=13 j=13 \n",
      "MATCHES i=14 j=14 \n",
      "MATCHES i=15 j=15 \n",
      "MATCHES i=16 j=16 \n",
      "MATCHES i=17 j=17 \n",
      "MATCHES i=18 j=18 \n",
      "MATCHES i=19 j=19 \n",
      "MATCHES i=20 j=20 \n",
      "MATCHES i=21 j=21 \n",
      "MATCHES i=22 j=22 \n",
      "MATCHES i=23 j=23 \n",
      "MATCHES i=24 j=24 \n",
      "MATCHES i=25 j=25 \n",
      "MATCHES i=26 j=26 \n",
      "MATCHES i=27 j=27 \n",
      "MATCHES i=28 j=28 \n",
      "MATCHES i=29 j=29 \n",
      "MATCHES i=30 j=30 \n",
      "MATCHES i=31 j=31 \n",
      "MATCHES i=32 j=32 \n",
      "MATCHES i=33 j=33 \n",
      "MATCHES i=34 j=34 \n",
      "MATCHES i=35 j=35 \n",
      "MATCHES i=36 j=36 \n",
      "MATCHES i=37 j=37 \n",
      "MATCHES i=38 j=38 \n",
      "MATCHES i=39 j=39 \n",
      "MATCHES i=40 j=40 \n",
      "MATCHES i=41 j=41 \n",
      "MATCHES i=42 j=42 \n",
      "MATCHES i=43 j=43 \n",
      "MATCHES i=44 j=44 \n",
      "MATCHES i=45 j=45 \n",
      "MATCHES i=46 j=46 \n",
      "MATCHES i=47 j=47 \n",
      "MATCHES i=48 j=48 \n",
      "MATCHES i=49 j=49 \n",
      "MATCHES i=50 j=50 \n",
      "MATCHES i=51 j=51 \n",
      "MATCHES i=52 j=52 \n",
      "MATCHES i=53 j=53 \n",
      "MATCHES i=54 j=54 \n",
      "MATCHES i=55 j=55 \n",
      "MATCHES i=56 j=56 \n",
      "MATCHES i=57 j=57 \n",
      "MATCHES i=58 j=58 \n",
      "MATCHES i=59 j=59 \n",
      "MATCHES i=60 j=60 \n",
      "MATCHES i=61 j=61 \n",
      "MATCHES i=62 j=62 \n",
      "MATCHES i=63 j=63 \n",
      "MATCHES i=64 j=64 \n",
      "MATCHES i=65 j=65 \n",
      "MATCHES i=66 j=66 \n",
      "MATCHES i=67 j=67 \n",
      "MATCHES i=68 j=68 \n",
      "MATCHES i=69 j=69 \n",
      "MATCHES i=70 j=70 \n",
      "MATCHES i=71 j=71 \n",
      "MATCHES i=72 j=72 \n",
      "MATCHES i=73 j=73 \n",
      "MATCHES i=74 j=74 \n",
      "MATCHES i=75 j=75 \n",
      "MATCHES i=76 j=76 \n",
      "MATCHES i=77 j=77 \n",
      "MATCHES i=78 j=78 \n",
      "MATCHES i=79 j=79 \n",
      "MATCHES i=80 j=80 \n",
      "MATCHES i=81 j=81 \n",
      "MATCHES i=82 j=82 \n",
      "MATCHES i=83 j=83 \n",
      "MATCHES i=84 j=84 \n",
      "MATCHES i=85 j=85 \n",
      "MATCHES i=86 j=86 \n",
      "MATCHES i=87 j=87 \n",
      "MATCHES i=88 j=88 \n",
      "MATCHES i=89 j=89 \n",
      "MATCHES i=90 j=90 \n",
      "MATCHES i=91 j=91 \n",
      "MATCHES i=92 j=92 \n",
      "MATCHES i=93 j=93 \n",
      "MATCHES i=94 j=94 \n",
      "MATCHES i=95 j=95 \n",
      "MATCHES i=96 j=96 \n",
      "MATCHES i=97 j=97 \n",
      "MATCHES i=98 j=98 \n",
      "MATCHES i=99 j=99 \n",
      "!STOP RECURSION!\n"
     ]
    }
   ],
   "source": [
    "recursive_func_df(df3,df4,0,0,n3,n4)"
   ],
   "metadata": {
    "collapsed": false,
    "pycharm": {
     "name": "#%%\n"
    }
   }
  },
  {
   "cell_type": "code",
   "execution_count": null,
   "outputs": [],
   "source": [],
   "metadata": {
    "collapsed": false,
    "pycharm": {
     "name": "#%%\n"
    }
   }
  }
 ],
 "metadata": {
  "kernelspec": {
   "display_name": "Python 3",
   "language": "python",
   "name": "python3"
  },
  "language_info": {
   "codemirror_mode": {
    "name": "ipython",
    "version": 2
   },
   "file_extension": ".py",
   "mimetype": "text/x-python",
   "name": "python",
   "nbconvert_exporter": "python",
   "pygments_lexer": "ipython2",
   "version": "2.7.6"
  }
 },
 "nbformat": 4,
 "nbformat_minor": 0
}